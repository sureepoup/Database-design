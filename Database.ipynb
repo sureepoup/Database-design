{
 "cells": [
  {
   "cell_type": "code",
   "execution_count": 154,
   "metadata": {
    "collapsed": true,
    "pycharm": {
     "is_executing": false
    }
   },
   "outputs": [
    {
     "name": "stdout",
     "text": [
      "Database opened successfully\n"
     ],
     "output_type": "stream"
    }
   ],
   "source": [
    "# для интеграции Postgres с Python, используется модуль psycopg2.\n",
    "# psycopg2 - это адаптер базы данных Postgres для Python\n",
    "\n",
    "import psycopg2\n",
    "\n",
    "con = psycopg2.connect(\n",
    "  database=\"Nenashev_schedule\",\n",
    "  user=\"postgres\", \n",
    "  password=\"20111996\", \n",
    "  host=\"127.0.0.1\",\n",
    "    \n",
    "  port=\"5432\"\n",
    ")\n",
    "\n",
    "print(\"Database opened successfully\")"
   ]
  },
  {
   "cell_type": "markdown",
   "source": [
    "# Creation of database"
   ],
   "metadata": {
    "collapsed": false,
    "pycharm": {
     "name": "#%% md\n"
    }
   }
  },
  {
   "cell_type": "code",
   "execution_count": 155,
   "outputs": [],
   "source": [
    "\n",
    "cur = con.cursor()\n",
    "cur.execute('''CREATE TABLE IF NOT EXISTS form ( \n",
    "  id_ int8 PRIMARY KEY,\n",
    "  name_ varchar not null\n",
    ") WITHOUT OIDS;\n",
    "\n",
    "CREATE TABLE IF NOT EXISTS day_of_the_week ( \n",
    "  id_ int8 PRIMARY KEY,\n",
    "  name_ varchar not null\n",
    ") WITHOUT OIDS;\n",
    "\n",
    "CREATE TABLE IF NOT EXISTS form_st ( \n",
    "  id_ int8 PRIMARY KEY,\n",
    "  name_ varchar not null\n",
    ") WITHOUT OIDS;\n",
    "\n",
    "\n",
    "CREATE TABLE IF NOT EXISTS st_group ( \n",
    "  id_ int8 PRIMARY KEY,\n",
    "  number_ varchar not null\n",
    ") WITHOUT OIDS;\n",
    "\n",
    "CREATE TABLE IF NOT EXISTS audience ( \n",
    "  id_ int8 PRIMARY KEY,\n",
    "  number_ varchar not null\n",
    ") WITHOUT OIDS;\n",
    "\n",
    "CREATE TABLE IF NOT EXISTS lesson ( \n",
    "  id_ int8 PRIMARY KEY,\n",
    "  name_ varchar not null\n",
    ") WITHOUT OIDS;\n",
    "\n",
    "CREATE TABLE IF NOT EXISTS teacher ( \n",
    "  id_ int8 PRIMARY KEY,\n",
    "  name_ varchar not null\n",
    ") WITHOUT OIDS;\n",
    "\n",
    "\n",
    "CREATE TABLE IF NOT EXISTS class_ ( \n",
    "  id_ serial8 PRIMARY KEY,\n",
    "  number_ int8,\n",
    "  time_start time not null,\n",
    "  time_end time not null,\n",
    "  lesson_id int8 not null,\n",
    "  teacher_id int8 not null,\n",
    "  group_id int8 not null,\n",
    "  form_id int8 not null,\n",
    "  day_of_the_week_id int8 not null,\n",
    "  audience_id int8 not null,\n",
    "FOREIGN KEY (lesson_id) REFERENCES lesson (id_),\n",
    "FOREIGN KEY (teacher_id) REFERENCES teacher (id_),\n",
    "FOREIGN KEY (group_id) REFERENCES st_group (id_),\n",
    "FOREIGN KEY (form_id) REFERENCES form (id_),\n",
    "FOREIGN KEY (day_of_the_week_id) REFERENCES day_of_the_week (id_),\n",
    "FOREIGN KEY (audience_id) REFERENCES audience (id_)\n",
    ") WITHOUT OIDS; ''')"
   ],
   "metadata": {
    "collapsed": false,
    "pycharm": {
     "name": "#%%\n",
     "is_executing": false
    }
   }
  },
  {
   "cell_type": "markdown",
   "source": [
    "# Insert template data "
   ],
   "metadata": {
    "collapsed": false,
    "pycharm": {
     "name": "#%% md\n"
    }
   }
  },
  {
   "cell_type": "code",
   "execution_count": 131,
   "outputs": [],
   "source": [
    "# дни недели\n",
    "days_of_the_week = ['monday', 'tuesday', 'wednesday', 'thursday', 'friday', 'saturday',\n",
    "                    'sunday']\n",
    "\n",
    "for i in range(1,len(days_of_the_week)+1):\n",
    "    query = \"INSERT INTO day_of_the_week VALUES (\" + str(i) + \",\\'\" + days_of_the_week[i-1]\\\n",
    "            + \"\\');\"\n",
    "    cur.execute(query)\n",
    "    con.commit()\n",
    "\n",
    "# апдейт значений\n",
    "for i in range(1, len(days_of_the_week)+1):\n",
    "    query = \"UPDATE day_of_the_week SET name_ = \\'\" + days_of_the_week[i-1] + \"\\' \" + \\\n",
    "            \"WHERE day_of_the_week.id_ = \" + str(i) + \";\"\n",
    "    #cur.execute(query)\n",
    "    con.commit()\n",
    "  \n",
    "# удаление элемента с id_ = 0 \n",
    "#cur.execute('''DELETE FROM day_of_the_week WHERE id_ = 0''')\n"
   ],
   "metadata": {
    "collapsed": false,
    "pycharm": {
     "name": "#%%\n",
     "is_executing": false
    }
   }
  },
  {
   "cell_type": "markdown",
   "source": [
    "### checking days of the week"
   ],
   "metadata": {
    "collapsed": false,
    "pycharm": {
     "name": "#%% md\n"
    }
   }
  },
  {
   "cell_type": "code",
   "execution_count": 132,
   "outputs": [
    {
     "name": "stdout",
     "text": [
      "(1, 'monday')\n(2, 'tuesday')\n(3, 'wednesday')\n(4, 'thursday')\n(5, 'friday')\n(6, 'saturday')\n(7, 'sunday')\n"
     ],
     "output_type": "stream"
    }
   ],
   "source": [
    "cur.execute('''SELECT * FROM day_of_the_week''')\n",
    "for row in cur:\n",
    "    print(row)"
   ],
   "metadata": {
    "collapsed": false,
    "pycharm": {
     "name": "#%%\n",
     "is_executing": false
    }
   }
  },
  {
   "cell_type": "code",
   "execution_count": 133,
   "outputs": [],
   "source": [
    "# форма обучения\n",
    "form_st = ['full-time', 'part-time']\n",
    "\n",
    "\n",
    "for i in range(1,len(form_st) + 1):\n",
    "    query = \"INSERT INTO form_st VALUES (\" + str(i) + \",\\'\" + form_st[i-1] + \"\\');\"\n",
    "    cur.execute(query)\n",
    "    con.commit()\n",
    "\n",
    "# апдейт значений    \n",
    "#cur.execute('''UPDATE form_st SET name_ = 'full-time' WHERE form_st.id_ = 1''')\n",
    "#cur.execute('''UPDATE form_st SET name_ = 'part-time' WHERE form_st.id_ = 2''')"
   ],
   "metadata": {
    "collapsed": false,
    "pycharm": {
     "name": "#%%\n",
     "is_executing": false
    }
   }
  },
  {
   "cell_type": "code",
   "execution_count": 113,
   "outputs": [
    {
     "name": "stdout",
     "text": [
      "(1, 'standard')\n"
     ],
     "output_type": "stream"
    }
   ],
   "source": [
    "# форма занятия: стандартная, факультативная\n",
    "form = ['standard', 'optional']\n",
    "\n",
    "for i in range(1,len(form)):\n",
    "    query = \"INSERT INTO form VALUES (\" + str(i) + \",\\'\" + form[i-1] + \"\\');\"\n",
    "    cur.execute(query)\n",
    "    con.commit()\n",
    " \n",
    "cur.execute('''SELECT * FROM form''')\n",
    "for row in cur:\n",
    "    print(row)   "
   ],
   "metadata": {
    "collapsed": false,
    "pycharm": {
     "name": "#%%\n",
     "is_executing": false
    }
   }
  },
  {
   "cell_type": "code",
   "execution_count": null,
   "outputs": [],
   "source": [],
   "metadata": {
    "collapsed": false,
    "pycharm": {
     "name": "#%%\n"
    }
   }
  },
  {
   "cell_type": "code",
   "execution_count": 134,
   "outputs": [
    {
     "name": "stdout",
     "text": [
      "(1, 'Александрова Е. Б.')\n(2, 'Бедрина М. Е.')\n(3, 'Бутырский Е. Ю.')\n(4, 'Ведякова А. О.')\n(5, 'Владимирова Л. В.')\n(6, 'Ганкевич И. Г.')\n"
     ],
     "output_type": "stream"
    }
   ],
   "source": [
    "# преподаватели\n",
    "teachers = ['Александрова Е. Б.', 'Бедрина М. Е.', 'Бутырский Е. Ю.', 'Ведякова А. О.',\n",
    "            'Владимирова Л. В.', 'Ганкевич И. Г.']\n",
    "\n",
    "for i in range(1,len(teachers)+1):\n",
    "    query = \"INSERT INTO teacher VALUES (\" + str(i) + \",\\'\" + teachers[i-1] + \"\\');\"\n",
    "    cur.execute(query)\n",
    "    con.commit()\n",
    "\n",
    "cur.execute('''SELECT * FROM teacher''')\n",
    "for row in cur:\n",
    "    print(row)  "
   ],
   "metadata": {
    "collapsed": false,
    "pycharm": {
     "name": "#%%\n",
     "is_executing": false
    }
   }
  },
  {
   "cell_type": "code",
   "execution_count": 145,
   "outputs": [
    {
     "name": "stdout",
     "text": [
      "(1, 'Основы программирования')\n(2, 'Проектирование баз данных')\n(3, 'Алгоритмы')\n(4, 'Теория устойчивости')\n(5, 'Математический анализ')\n(6, 'Теория управления')\n"
     ],
     "output_type": "stream"
    }
   ],
   "source": [
    "# предметы\n",
    "lessons = ['Основы программирования', 'Проектирование баз данных', 'Алгоритмы', \n",
    "           'Теория устойчивости', 'Математический анализ', 'Теория управления']\n",
    "\n",
    "for i in range(1,len(lessons)+1):\n",
    "    query = \"INSERT INTO lesson VALUES (\" + str(i) + \",\\'\" + lessons[i-1] + \"\\');\"\n",
    "    cur.execute(query)\n",
    "    con.commit()\n",
    "    \n",
    "\n",
    "cur.execute('''SELECT * FROM lesson''')\n",
    "for row in cur:\n",
    "    print(row)  "
   ],
   "metadata": {
    "collapsed": false,
    "pycharm": {
     "name": "#%%\n",
     "is_executing": false
    }
   }
  },
  {
   "cell_type": "code",
   "execution_count": 138,
   "outputs": [
    {
     "name": "stdout",
     "text": [
      "(1, '225Д')\n(2, '403Е')\n(3, '447Д')\n(4, '123Д')\n(5, '480Д')\n(6, '111А')\n(7, '808Е')\n"
     ],
     "output_type": "stream"
    }
   ],
   "source": [
    "# аудитории\n",
    "audiences = ['225Д', '403Е', '447Д', '123Д', '480Д', '111А', '808Е']\n",
    "\n",
    "for i in range(1,len(audiences)+1):\n",
    "    query = \"INSERT INTO audience VALUES (\" + str(i) + \",\\'\" + audiences[i-1] + \"\\');\"\n",
    "    cur.execute(query)\n",
    "    con.commit()\n",
    "\n",
    "cur.execute('''SELECT * FROM audience''')\n",
    "for row in cur:\n",
    "    print(row)  "
   ],
   "metadata": {
    "collapsed": false,
    "pycharm": {
     "name": "#%%\n",
     "is_executing": false
    }
   }
  },
  {
   "cell_type": "code",
   "execution_count": 146,
   "outputs": [
    {
     "name": "stdout",
     "text": [
      "(1, '19.11')\n(2, '19.12')\n(3, '19.13')\n(4, '19.14')\n(5, '19.15')\n(6, '19.16')\n(7, '19.17')\n(8, '19.18')\n"
     ],
     "output_type": "stream"
    }
   ],
   "source": [
    "# академические группы\n",
    "st_group = ['19.11', '19.12', '19.13', '19.14', '19.15', '19.16', '19.17', '19.18']\n",
    "\n",
    "for i in range(1,len(st_group)+1):\n",
    "    query = \"INSERT INTO st_group VALUES (\" + str(i) + \",\\'\" + st_group[i-1] + \"\\');\"\n",
    "    cur.execute(query)\n",
    "    con.commit()\n",
    "\n",
    "cur.execute('''SELECT * FROM st_group''')\n",
    "for row in cur:\n",
    "    print(row)  "
   ],
   "metadata": {
    "collapsed": false,
    "pycharm": {
     "name": "#%%\n",
     "is_executing": false
    }
   }
  },
  {
   "cell_type": "code",
   "execution_count": null,
   "outputs": [],
   "source": [
    "# функция добавления пары в БД\n",
    "def insert_class(time_start, time_end,lesson_id, teacher_id, group_id, audience_id, number_ = 1, form_id  = 1, day_of_the_week_id = 1):\n",
    "    query = '''INSERT INTO class_ (time_start, time_end, lesson_id, teacher_id, group_id, audience_id, number_, form_id, day_of_the_week_id) VALUES (\" \n",
    "    + \"\\'\" + str(time_start) + ',' + str(time_end) + ',' + str(lesson_id) + ',' + str(teacher_id) + ',' + str(group_id) + ','\n",
    "    + str(audience_id) + ',' + str(number_) + ',' + str(form_id) + ',' + str(day_of_the_week_id)' +'\\');'''\n",
    "    cur.execute(query)\n",
    "    con.commit()\n"
   ],
   "metadata": {
    "collapsed": false,
    "pycharm": {
     "name": "#%%\n"
    }
   }
  }
 ],
 "metadata": {
  "language_info": {
   "codemirror_mode": {
    "name": "ipython",
    "version": 2
   },
   "file_extension": ".py",
   "mimetype": "text/x-python",
   "name": "python",
   "nbconvert_exporter": "python",
   "pygments_lexer": "ipython2",
   "version": "2.7.6"
  },
  "kernelspec": {
   "name": "python3",
   "language": "python",
   "display_name": "Python 3"
  },
  "pycharm": {
   "stem_cell": {
    "cell_type": "raw",
    "source": [],
    "metadata": {
     "collapsed": false
    }
   }
  }
 },
 "nbformat": 4,
 "nbformat_minor": 0
}